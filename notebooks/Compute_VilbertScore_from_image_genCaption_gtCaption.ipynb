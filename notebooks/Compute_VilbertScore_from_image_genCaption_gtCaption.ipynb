{
 "cells": [
  {
   "cell_type": "markdown",
   "id": "56921a08",
   "metadata": {},
   "source": [
    "# 01. extract image featrues"
   ]
  },
  {
   "cell_type": "code",
   "execution_count": 1,
   "id": "f0d382f9",
   "metadata": {},
   "outputs": [],
   "source": [
    "IMAGE_PATH = \"../data/sample/image_path.txt\"         # input\n",
    "IMAGE_FEATURE = \"../data/sample/image_features.pkl\"  # output\n",
    "\n",
    "FEATURE_EXTRACTOR_BATCH_SIZE = 8\n",
    "DETECTRON_MODEL  = \"../data/detection/detectron_model.pth\"\n",
    "DETECTRON_CONFIG = \"../data/detection/detectron_config.yaml\""
   ]
  },
  {
   "cell_type": "code",
   "execution_count": 2,
   "id": "5bc067a3",
   "metadata": {},
   "outputs": [
    {
     "name": "stdout",
     "output_type": "stream",
     "text": [
      "\n",
      "====================== EVALUATION CONFIGURATION ======================\n",
      "Summary\n",
      "----------------------------------------------------------------------\n",
      " - model_file                         : ../data/detection/detectron_model.pth\n",
      " - config_file                        : ../data/detection/detectron_config.yaml\n",
      " - batch_size                         : 8\n",
      " - num_features                       : 100\n",
      " - output_folder                      : \n",
      " - image_dir                          : \n",
      " - feature_name                       : fc6\n",
      " - confidence_threshold               : 0\n",
      " - background                         : False\n",
      " - partition                          : 0\n"
     ]
    }
   ],
   "source": [
    "import sys\n",
    "sys.path.append(\"../vilbert\")\n",
    "from extract_features_custom import FeatureExtractor\n",
    "\n",
    "feature_extractor = FeatureExtractor(model_file    = DETECTRON_MODEL,\n",
    "                                     config_file   = DETECTRON_CONFIG,\n",
    "                                     batch_size    = FEATURE_EXTRACTOR_BATCH_SIZE,\n",
    ")"
   ]
  },
  {
   "cell_type": "code",
   "execution_count": 3,
   "id": "8e3bdb78",
   "metadata": {},
   "outputs": [
    {
     "name": "stderr",
     "output_type": "stream",
     "text": [
      "1it [00:02,  2.08s/it]\n"
     ]
    }
   ],
   "source": [
    "with open(IMAGE_PATH) as f:\n",
    "    image_path = f.readlines()\n",
    "\n",
    "image_path = [x.strip() for x in image_path]\n",
    "img_features = feature_extractor.extract_features_direct(image_path)\n",
    "\n",
    "assert len(image_path) == len(img_features)"
   ]
  },
  {
   "cell_type": "code",
   "execution_count": 4,
   "id": "52f28dd3",
   "metadata": {},
   "outputs": [],
   "source": [
    "import pickle\n",
    "with open(IMAGE_FEATURE, \"wb\") as f:\n",
    "    pickle.dump(img_features, f)"
   ]
  },
  {
   "cell_type": "code",
   "execution_count": null,
   "id": "a52e6444",
   "metadata": {},
   "outputs": [],
   "source": []
  },
  {
   "cell_type": "code",
   "execution_count": null,
   "id": "05115ac7",
   "metadata": {},
   "outputs": [],
   "source": []
  },
  {
   "cell_type": "code",
   "execution_count": null,
   "id": "4eaa6188",
   "metadata": {},
   "outputs": [],
   "source": []
  },
  {
   "cell_type": "code",
   "execution_count": null,
   "id": "720fee07",
   "metadata": {},
   "outputs": [],
   "source": []
  },
  {
   "cell_type": "markdown",
   "id": "d810e2c7",
   "metadata": {},
   "source": [
    "## 02. Compute VilbertScore"
   ]
  },
  {
   "cell_type": "code",
   "execution_count": 1,
   "id": "ff5a5053",
   "metadata": {},
   "outputs": [],
   "source": [
    "IMAGE_FEATURE = \"../data/sample/image_features.pkl\"  # output from step 01\n",
    "GENERATED_CAPTION = \"../data/sample/gen_captions.txt\"\n",
    "GT_CAPTION = \"../data/sample/gt_captions.txt\"\n",
    "\n",
    "VS_BATCH_SIZE = 8"
   ]
  },
  {
   "cell_type": "code",
   "execution_count": 2,
   "id": "6cb520a2",
   "metadata": {},
   "outputs": [
    {
     "name": "stdout",
     "output_type": "stream",
     "text": [
      "WARNING:tensorflow:From /home/syoon/anaconda3/envs/vilbert-score/lib/python3.6/site-packages/tensorpack/callbacks/hooks.py:17: The name tf.train.SessionRunHook is deprecated. Please use tf.estimator.SessionRunHook instead.\n",
      "\n",
      "WARNING:tensorflow:From /home/syoon/anaconda3/envs/vilbert-score/lib/python3.6/site-packages/tensorpack/tfutils/optimizer.py:18: The name tf.train.Optimizer is deprecated. Please use tf.compat.v1.train.Optimizer instead.\n",
      "\n",
      "WARNING:tensorflow:From /home/syoon/anaconda3/envs/vilbert-score/lib/python3.6/site-packages/tensorpack/tfutils/sesscreate.py:20: The name tf.train.SessionCreator is deprecated. Please use tf.compat.v1.train.SessionCreator instead.\n",
      "\n"
     ]
    }
   ],
   "source": [
    "import pandas as pd\n",
    "import sys\n",
    "sys.path.append(\"../vilbert\")\n",
    "import pickle\n",
    "from compute_vilbertscore_custom import VilbertScore\n",
    "vs = VilbertScore(batch_size=VS_BATCH_SIZE)"
   ]
  },
  {
   "cell_type": "code",
   "execution_count": 3,
   "id": "823a3af1",
   "metadata": {},
   "outputs": [],
   "source": [
    "with open(IMAGE_FEATURE, \"rb\") as f:\n",
    "    imgs = pickle.load(f)\n",
    "            \n",
    "with open(GENERATED_CAPTION, \"r\") as f:\n",
    "    cand_caps = f.readlines()\n",
    "    cand_caps = [x.strip() for x in cand_caps]\n",
    "\n",
    "with open(GT_CAPTION, \"r\") as f:\n",
    "    gt_caps = f.readlines()\n",
    "    gt_caps = [x.strip() for x in gt_caps]"
   ]
  },
  {
   "cell_type": "code",
   "execution_count": 4,
   "id": "ef60b247",
   "metadata": {},
   "outputs": [],
   "source": [
    "# load dataset to compute\n",
    "vs.loaddata(list_image_feature = imgs,\n",
    "            list_gen_caption = cand_caps,\n",
    "            list_gt_caption = gt_caps,\n",
    "            max_len=50\n",
    "           )"
   ]
  },
  {
   "cell_type": "code",
   "execution_count": 6,
   "id": "dd2701b4",
   "metadata": {},
   "outputs": [
    {
     "name": "stderr",
     "output_type": "stream",
     "text": [
      "100%|██████████| 1/1 [00:00<00:00, 14.55it/s]"
     ]
    },
    {
     "name": "stdout",
     "output_type": "stream",
     "text": [
      "target data\n",
      "Generated Captions (5 samples):  ['A man is skating on a boat.', 'Two girls are standing on a store.']\n",
      "Ground truth Captions (5 samples):  ['A man is skating on a rail.', 'Two men in ethnic dress standing in a barren landscape.']\n"
     ]
    },
    {
     "name": "stderr",
     "output_type": "stream",
     "text": [
      "\n"
     ]
    },
    {
     "data": {
      "text/html": [
       "<div>\n",
       "<style scoped>\n",
       "    .dataframe tbody tr th:only-of-type {\n",
       "        vertical-align: middle;\n",
       "    }\n",
       "\n",
       "    .dataframe tbody tr th {\n",
       "        vertical-align: top;\n",
       "    }\n",
       "\n",
       "    .dataframe thead th {\n",
       "        text-align: right;\n",
       "    }\n",
       "</style>\n",
       "<table border=\"1\" class=\"dataframe\">\n",
       "  <thead>\n",
       "    <tr style=\"text-align: right;\">\n",
       "      <th></th>\n",
       "      <th>precision</th>\n",
       "      <th>recall</th>\n",
       "      <th>f1</th>\n",
       "    </tr>\n",
       "  </thead>\n",
       "  <tbody>\n",
       "    <tr>\n",
       "      <th>0</th>\n",
       "      <td>0.915213</td>\n",
       "      <td>0.916878</td>\n",
       "      <td>0.916045</td>\n",
       "    </tr>\n",
       "    <tr>\n",
       "      <th>1</th>\n",
       "      <td>0.875579</td>\n",
       "      <td>0.842759</td>\n",
       "      <td>0.858855</td>\n",
       "    </tr>\n",
       "  </tbody>\n",
       "</table>\n",
       "</div>"
      ],
      "text/plain": [
       "   precision    recall        f1\n",
       "0   0.915213  0.916878  0.916045\n",
       "1   0.875579  0.842759  0.858855"
      ]
     },
     "execution_count": 6,
     "metadata": {},
     "output_type": "execute_result"
    }
   ],
   "source": [
    "# compute the score\n",
    "precision, recall, f1 = vs.compute()\n",
    "df = pd.DataFrame(data=[precision, recall, f1]).T\n",
    "df = df.rename(columns={0:\"precision\", 1:\"recall\", 2:\"f1\"})\n",
    "df"
   ]
  },
  {
   "cell_type": "code",
   "execution_count": null,
   "id": "e67b451a",
   "metadata": {},
   "outputs": [],
   "source": []
  },
  {
   "cell_type": "code",
   "execution_count": null,
   "id": "8eb555eb",
   "metadata": {},
   "outputs": [],
   "source": []
  }
 ],
 "metadata": {
  "kernelspec": {
   "display_name": "Python [conda env:vilbert-score]",
   "language": "python",
   "name": "conda-env-vilbert-score-py"
  },
  "language_info": {
   "codemirror_mode": {
    "name": "ipython",
    "version": 3
   },
   "file_extension": ".py",
   "mimetype": "text/x-python",
   "name": "python",
   "nbconvert_exporter": "python",
   "pygments_lexer": "ipython3",
   "version": "3.6.13"
  }
 },
 "nbformat": 4,
 "nbformat_minor": 5
}
