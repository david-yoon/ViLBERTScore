{
 "cells": [
  {
   "cell_type": "code",
   "execution_count": 8,
   "id": "b2d784a1",
   "metadata": {},
   "outputs": [],
   "source": [
    "import pandas as pd\n",
    "import numpy as np\n",
    "from print_stat import *"
   ]
  },
  {
   "cell_type": "code",
   "execution_count": 12,
   "id": "10e01c4b",
   "metadata": {},
   "outputs": [
    {
     "name": "stdout",
     "output_type": "stream",
     "text": [
      "\t#:\t\t5000\n",
      "\tmean:\t\t0.895\n",
      "\tmedian:\t\t0.899\n",
      "\tstd:\t\t0.035\n",
      "\tmax:\t\t0.981\n",
      "\tmin:\t\t0.748\n",
      "\n"
     ]
    }
   ],
   "source": [
    "df = pd.read_csv(\"../data/processed/finecap/vilbertscore_cider.csv\")\n",
    "print_stats( df[\"f1\"] )"
   ]
  },
  {
   "cell_type": "code",
   "execution_count": null,
   "id": "bdf1abc7",
   "metadata": {},
   "outputs": [],
   "source": []
  },
  {
   "cell_type": "code",
   "execution_count": 13,
   "id": "b3c0daed",
   "metadata": {},
   "outputs": [
    {
     "name": "stdout",
     "output_type": "stream",
     "text": [
      "\t#:\t\t5000\n",
      "\tmean:\t\t0.839\n",
      "\tmedian:\t\t0.842\n",
      "\tstd:\t\t0.030\n",
      "\tmax:\t\t0.927\n",
      "\tmin:\t\t0.716\n",
      "\n"
     ]
    }
   ],
   "source": [
    "df = pd.read_csv(\"../data/processed/finecap/vilbertscore_clip.csv\")\n",
    "print_stats( df[\"f1\"] )"
   ]
  },
  {
   "cell_type": "code",
   "execution_count": null,
   "id": "4d19102c",
   "metadata": {},
   "outputs": [],
   "source": []
  },
  {
   "cell_type": "code",
   "execution_count": 15,
   "id": "d7275160",
   "metadata": {},
   "outputs": [
    {
     "name": "stdout",
     "output_type": "stream",
     "text": [
      "\t#:\t\t5000\n",
      "\tmean:\t\t0.881\n",
      "\tmedian:\t\t0.883\n",
      "\tstd:\t\t0.030\n",
      "\tmax:\t\t0.976\n",
      "\tmin:\t\t0.749\n",
      "\n"
     ]
    }
   ],
   "source": [
    "df = pd.read_csv(\"../data/processed/finecap/vilbertscore_clip_norm.csv\")\n",
    "print_stats( df[\"f1\"] )"
   ]
  },
  {
   "cell_type": "code",
   "execution_count": null,
   "id": "fade20d8",
   "metadata": {},
   "outputs": [],
   "source": []
  }
 ],
 "metadata": {
  "kernelspec": {
   "display_name": "Python [conda env:vilbert-score]",
   "language": "python",
   "name": "conda-env-vilbert-score-py"
  },
  "language_info": {
   "codemirror_mode": {
    "name": "ipython",
    "version": 3
   },
   "file_extension": ".py",
   "mimetype": "text/x-python",
   "name": "python",
   "nbconvert_exporter": "python",
   "pygments_lexer": "ipython3",
   "version": "3.6.13"
  }
 },
 "nbformat": 4,
 "nbformat_minor": 5
}
