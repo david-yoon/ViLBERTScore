{
 "cells": [
  {
   "cell_type": "markdown",
   "id": "495821b9",
   "metadata": {},
   "source": [
    "## 01. data preprocess"
   ]
  },
  {
   "cell_type": "code",
   "execution_count": null,
   "id": "9cee16c6",
   "metadata": {},
   "outputs": [],
   "source": [
    "import pandas as pd\n",
    "import os"
   ]
  },
  {
   "cell_type": "code",
   "execution_count": 112,
   "id": "c5aa51d6",
   "metadata": {},
   "outputs": [
    {
     "data": {
      "text/html": [
       "<div>\n",
       "<style scoped>\n",
       "    .dataframe tbody tr th:only-of-type {\n",
       "        vertical-align: middle;\n",
       "    }\n",
       "\n",
       "    .dataframe tbody tr th {\n",
       "        vertical-align: top;\n",
       "    }\n",
       "\n",
       "    .dataframe thead th {\n",
       "        text-align: right;\n",
       "    }\n",
       "</style>\n",
       "<table border=\"1\" class=\"dataframe\">\n",
       "  <thead>\n",
       "    <tr style=\"text-align: right;\">\n",
       "      <th></th>\n",
       "      <th>image</th>\n",
       "      <th>cand_caption</th>\n",
       "      <th>2</th>\n",
       "      <th>3</th>\n",
       "      <th>4</th>\n",
       "    </tr>\n",
       "  </thead>\n",
       "  <tbody>\n",
       "    <tr>\n",
       "      <th>0</th>\n",
       "      <td>1056338697_4f7d7ce270.jpg</td>\n",
       "      <td>2549968784_39bfbe44f9.jpg#2</td>\n",
       "      <td>1</td>\n",
       "      <td>1</td>\n",
       "      <td>1</td>\n",
       "    </tr>\n",
       "    <tr>\n",
       "      <th>1</th>\n",
       "      <td>1056338697_4f7d7ce270.jpg</td>\n",
       "      <td>2718495608_d8533e3ac5.jpg#2</td>\n",
       "      <td>1</td>\n",
       "      <td>1</td>\n",
       "      <td>2</td>\n",
       "    </tr>\n",
       "    <tr>\n",
       "      <th>2</th>\n",
       "      <td>1056338697_4f7d7ce270.jpg</td>\n",
       "      <td>3181701312_70a379ab6e.jpg#2</td>\n",
       "      <td>1</td>\n",
       "      <td>1</td>\n",
       "      <td>2</td>\n",
       "    </tr>\n",
       "    <tr>\n",
       "      <th>3</th>\n",
       "      <td>1056338697_4f7d7ce270.jpg</td>\n",
       "      <td>3207358897_bfa61fa3c6.jpg#2</td>\n",
       "      <td>1</td>\n",
       "      <td>2</td>\n",
       "      <td>2</td>\n",
       "    </tr>\n",
       "    <tr>\n",
       "      <th>4</th>\n",
       "      <td>1056338697_4f7d7ce270.jpg</td>\n",
       "      <td>3286822339_5535af6b93.jpg#2</td>\n",
       "      <td>1</td>\n",
       "      <td>1</td>\n",
       "      <td>2</td>\n",
       "    </tr>\n",
       "  </tbody>\n",
       "</table>\n",
       "</div>"
      ],
      "text/plain": [
       "                       image                 cand_caption  2  3  4\n",
       "0  1056338697_4f7d7ce270.jpg  2549968784_39bfbe44f9.jpg#2  1  1  1\n",
       "1  1056338697_4f7d7ce270.jpg  2718495608_d8533e3ac5.jpg#2  1  1  2\n",
       "2  1056338697_4f7d7ce270.jpg  3181701312_70a379ab6e.jpg#2  1  1  2\n",
       "3  1056338697_4f7d7ce270.jpg  3207358897_bfa61fa3c6.jpg#2  1  2  2\n",
       "4  1056338697_4f7d7ce270.jpg  3286822339_5535af6b93.jpg#2  1  1  2"
      ]
     },
     "execution_count": 112,
     "metadata": {},
     "output_type": "execute_result"
    }
   ],
   "source": [
    "df_anno = pd.read_csv(\"../data/raw/flickr8k/ExpertAnnotations.txt\", header=None, delimiter=\"\\t\")\n",
    "df_anno = df_anno.rename(columns={0:\"image\", 1:\"cand_caption\"})\n",
    "df_anno.head(5)"
   ]
  },
  {
   "cell_type": "code",
   "execution_count": null,
   "id": "db105ad0",
   "metadata": {},
   "outputs": [],
   "source": []
  },
  {
   "cell_type": "code",
   "execution_count": 113,
   "id": "5c7e5440",
   "metadata": {},
   "outputs": [
    {
     "data": {
      "text/html": [
       "<div>\n",
       "<style scoped>\n",
       "    .dataframe tbody tr th:only-of-type {\n",
       "        vertical-align: middle;\n",
       "    }\n",
       "\n",
       "    .dataframe tbody tr th {\n",
       "        vertical-align: top;\n",
       "    }\n",
       "\n",
       "    .dataframe thead th {\n",
       "        text-align: right;\n",
       "    }\n",
       "</style>\n",
       "<table border=\"1\" class=\"dataframe\">\n",
       "  <thead>\n",
       "    <tr style=\"text-align: right;\">\n",
       "      <th></th>\n",
       "      <th>image</th>\n",
       "      <th>cand_caption</th>\n",
       "    </tr>\n",
       "  </thead>\n",
       "  <tbody>\n",
       "    <tr>\n",
       "      <th>0</th>\n",
       "      <td>1000268201_693b08cb0e.jpg#0</td>\n",
       "      <td>A child in a pink dress is climbing up a set o...</td>\n",
       "    </tr>\n",
       "    <tr>\n",
       "      <th>1</th>\n",
       "      <td>1000268201_693b08cb0e.jpg#1</td>\n",
       "      <td>A girl going into a wooden building .</td>\n",
       "    </tr>\n",
       "    <tr>\n",
       "      <th>2</th>\n",
       "      <td>1000268201_693b08cb0e.jpg#2</td>\n",
       "      <td>A little girl climbing into a wooden playhouse .</td>\n",
       "    </tr>\n",
       "    <tr>\n",
       "      <th>3</th>\n",
       "      <td>1000268201_693b08cb0e.jpg#3</td>\n",
       "      <td>A little girl climbing the stairs to her playh...</td>\n",
       "    </tr>\n",
       "    <tr>\n",
       "      <th>4</th>\n",
       "      <td>1000268201_693b08cb0e.jpg#4</td>\n",
       "      <td>A little girl in a pink dress going into a woo...</td>\n",
       "    </tr>\n",
       "  </tbody>\n",
       "</table>\n",
       "</div>"
      ],
      "text/plain": [
       "                         image  \\\n",
       "0  1000268201_693b08cb0e.jpg#0   \n",
       "1  1000268201_693b08cb0e.jpg#1   \n",
       "2  1000268201_693b08cb0e.jpg#2   \n",
       "3  1000268201_693b08cb0e.jpg#3   \n",
       "4  1000268201_693b08cb0e.jpg#4   \n",
       "\n",
       "                                        cand_caption  \n",
       "0  A child in a pink dress is climbing up a set o...  \n",
       "1              A girl going into a wooden building .  \n",
       "2   A little girl climbing into a wooden playhouse .  \n",
       "3  A little girl climbing the stairs to her playh...  \n",
       "4  A little girl in a pink dress going into a woo...  "
      ]
     },
     "execution_count": 113,
     "metadata": {},
     "output_type": "execute_result"
    }
   ],
   "source": [
    "df_cap = pd.read_csv(\"../data/raw/flickr8k/Flickr8k.token.txt\", header=None, delimiter=\"\\t\")\n",
    "df_cap = df_cap.rename(columns={0:\"image\", 1:\"cand_caption\"})\n",
    "df_cap.head(5)"
   ]
  },
  {
   "cell_type": "code",
   "execution_count": null,
   "id": "879e295e",
   "metadata": {},
   "outputs": [],
   "source": []
  },
  {
   "cell_type": "code",
   "execution_count": 63,
   "id": "a3714a34",
   "metadata": {},
   "outputs": [],
   "source": [
    "# build look-up dictionary\n",
    "\n",
    "with open(\"../data/raw/flickr8k/Flickr8k.token.txt\") as f:\n",
    "    cap = f.readlines()\n",
    "    cap = [x.strip() for x in cap]\n",
    "    \n",
    "cap_dict = {}\n",
    "for item in cap:\n",
    "    _id    = item.split(\"\\t\")[0].split(\"#\")[0]\n",
    "    _index = item.split(\"\\t\")[0].split(\"#\")[1]\n",
    "    _text  = item.split(\"\\t\")[1]\n",
    "    \n",
    "    if _id in cap_dict:\n",
    "        cap_dict[_id].append(_text)\n",
    "        \n",
    "    else:\n",
    "        cap_dict[_id] = [_text]        "
   ]
  },
  {
   "cell_type": "code",
   "execution_count": null,
   "id": "dc12f681",
   "metadata": {},
   "outputs": [],
   "source": []
  },
  {
   "cell_type": "code",
   "execution_count": 86,
   "id": "8e07101d",
   "metadata": {},
   "outputs": [],
   "source": [
    "# image \n",
    "imgs = df_anno[\"image\"]\n",
    "base_path = \"../data/raw/flickr8k/Flicker8k_Dataset/\"\n",
    "\n",
    "if os.path.isdir(\"../data/processed/flickr8k\") == False:\n",
    "    os.mkdir(\"../data/processed/flickr8k\")\n",
    "\n",
    "with open(\"../data/processed/flickr8k/imgs.txt\", \"w\") as f:\n",
    "    for item in imgs:\n",
    "        f.write(base_path + item + \"\\n\")\n",
    "        \n",
    "        \n",
    "# repetition to match 5 ground truth\n",
    "with open(\"../data/processed/flickr8k/imgs_rep_5.txt\", \"w\") as f:\n",
    "    for item in imgs:\n",
    "        for i in range(5):\n",
    "            f.write(base_path + item + \"\\n\")"
   ]
  },
  {
   "cell_type": "code",
   "execution_count": null,
   "id": "ebbff3c3",
   "metadata": {},
   "outputs": [],
   "source": []
  },
  {
   "cell_type": "code",
   "execution_count": 87,
   "id": "fa3e19fe",
   "metadata": {},
   "outputs": [],
   "source": [
    "# cand caption\n",
    "cand = df_anno[\"cand_caption\"]\n",
    "\n",
    "with open(\"../data/processed/flickr8k/cand.txt\", \"w\") as f:\n",
    "    for item in cand:\n",
    "        _id    = item.split(\"#\")[0]\n",
    "        _index = int(item.split(\"#\")[1])\n",
    "        f.write( cap_dict[_id][_index] + \"\\n\")\n",
    "        \n",
    "        \n",
    "# repetition to match 5 ground truth\n",
    "with open(\"../data/processed/flickr8k/cand_rep_5.txt\", \"w\") as f:\n",
    "    for item in cand:\n",
    "        for i in range(5):\n",
    "            _id    = item.split(\"#\")[0]\n",
    "            _index = int(item.split(\"#\")[1])\n",
    "            f.write( cap_dict[_id][_index] + \"\\n\")"
   ]
  },
  {
   "cell_type": "code",
   "execution_count": null,
   "id": "c602eaaf",
   "metadata": {},
   "outputs": [],
   "source": []
  },
  {
   "cell_type": "code",
   "execution_count": 82,
   "id": "626235ba",
   "metadata": {},
   "outputs": [],
   "source": [
    "# gt caption\n",
    "gt = df_anno[\"image\"]\n",
    "\n",
    "with open(\"../data/processed/flickr8k/gt.txt\", \"w\") as f:\n",
    "    for item in gt:\n",
    "        for _text in cap_dict[item]:\n",
    "            f.write( _text + \"\\n\")"
   ]
  },
  {
   "cell_type": "code",
   "execution_count": null,
   "id": "287a793a",
   "metadata": {},
   "outputs": [],
   "source": []
  },
  {
   "cell_type": "code",
   "execution_count": 114,
   "id": "02cef55e",
   "metadata": {},
   "outputs": [],
   "source": [
    "# annotations\n",
    "\n",
    "anno_1 = df_anno[2]\n",
    "anno_2 = df_anno[3]\n",
    "anno_3 = df_anno[4]\n",
    "anno_avg = (anno_1 + anno_2 + anno_3)/3\n",
    "\n",
    "with open(\"../data/processed/flickr8k/annotations_avg.txt\", \"w\") as f:\n",
    "    for i in range(len(anno_avg)):\n",
    "        f.write(str(anno_avg[i]) + \"\\n\")"
   ]
  },
  {
   "cell_type": "code",
   "execution_count": null,
   "id": "7478f2d6",
   "metadata": {},
   "outputs": [],
   "source": []
  },
  {
   "cell_type": "code",
   "execution_count": null,
   "id": "34aa3c31",
   "metadata": {},
   "outputs": [],
   "source": []
  },
  {
   "cell_type": "markdown",
   "id": "11d0168d",
   "metadata": {},
   "source": [
    "## 02. compute score"
   ]
  },
  {
   "cell_type": "code",
   "execution_count": 1,
   "id": "0693a5ed",
   "metadata": {},
   "outputs": [],
   "source": [
    "IMAGE_PATH = \"../data/processed/flickr8k/imgs_rep_5.txt\"         # input\n",
    "IMAGE_FEATURE = \"../data/processed/flickr8k/image_features.pkl\"  # output\n",
    "\n",
    "FEATURE_EXTRACTOR_BATCH_SIZE = 4\n",
    "DETECTRON_MODEL  = \"../data/detection/detectron_model.pth\"\n",
    "DETECTRON_CONFIG = \"../data/detection/detectron_config.yaml\""
   ]
  },
  {
   "cell_type": "code",
   "execution_count": 2,
   "id": "1a2271e2",
   "metadata": {},
   "outputs": [
    {
     "name": "stdout",
     "output_type": "stream",
     "text": [
      "\n",
      "====================== EVALUATION CONFIGURATION ======================\n",
      "Summary\n",
      "----------------------------------------------------------------------\n",
      " - model_file                         : ../data/detection/detectron_model.pth\n",
      " - config_file                        : ../data/detection/detectron_config.yaml\n",
      " - batch_size                         : 4\n",
      " - num_features                       : 100\n",
      " - output_folder                      : \n",
      " - image_dir                          : \n",
      " - feature_name                       : fc6\n",
      " - confidence_threshold               : 0\n",
      " - background                         : False\n",
      " - partition                          : 0\n"
     ]
    }
   ],
   "source": [
    "import sys\n",
    "sys.path.append(\"../vilbert\")\n",
    "from extract_features_custom import FeatureExtractor\n",
    "\n",
    "feature_extractor = FeatureExtractor(model_file    = DETECTRON_MODEL,\n",
    "                                     config_file   = DETECTRON_CONFIG,\n",
    "                                     batch_size    = FEATURE_EXTRACTOR_BATCH_SIZE,\n",
    ")"
   ]
  },
  {
   "cell_type": "code",
   "execution_count": null,
   "id": "c92aa7af",
   "metadata": {},
   "outputs": [
    {
     "name": "stderr",
     "output_type": "stream",
     "text": [
      "\r",
      "0it [00:00, ?it/s]"
     ]
    }
   ],
   "source": [
    "with open(IMAGE_PATH) as f:\n",
    "    image_path = f.readlines()\n",
    "\n",
    "image_path = [x.strip() for x in image_path]\n",
    "img_features = feature_extractor.extract_features_direct(image_path)\n",
    "\n",
    "assert len(image_path) == len(img_features)"
   ]
  },
  {
   "cell_type": "code",
   "execution_count": null,
   "id": "da26f63f",
   "metadata": {},
   "outputs": [],
   "source": [
    "import pickle\n",
    "with open(IMAGE_FEATURE, \"wb\") as f:\n",
    "    pickle.dump(img_features, f)"
   ]
  },
  {
   "cell_type": "code",
   "execution_count": null,
   "id": "932e373d",
   "metadata": {},
   "outputs": [],
   "source": []
  },
  {
   "cell_type": "code",
   "execution_count": null,
   "id": "6f5744b4",
   "metadata": {},
   "outputs": [],
   "source": []
  },
  {
   "cell_type": "code",
   "execution_count": null,
   "id": "7428d4f1",
   "metadata": {},
   "outputs": [],
   "source": []
  },
  {
   "cell_type": "code",
   "execution_count": null,
   "id": "71d2d07d",
   "metadata": {},
   "outputs": [],
   "source": []
  }
 ],
 "metadata": {
  "kernelspec": {
   "display_name": "Python [conda env:vilbert-score]",
   "language": "python",
   "name": "conda-env-vilbert-score-py"
  },
  "language_info": {
   "codemirror_mode": {
    "name": "ipython",
    "version": 3
   },
   "file_extension": ".py",
   "mimetype": "text/x-python",
   "name": "python",
   "nbconvert_exporter": "python",
   "pygments_lexer": "ipython3",
   "version": "3.6.13"
  }
 },
 "nbformat": 4,
 "nbformat_minor": 5
}
