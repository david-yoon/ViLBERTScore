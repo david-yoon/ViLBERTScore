{
 "cells": [
  {
   "cell_type": "markdown",
   "id": "b19a7f21",
   "metadata": {},
   "source": [
    "## 01. data preprocess"
   ]
  },
  {
   "cell_type": "code",
   "execution_count": 1,
   "id": "9f7d47d4",
   "metadata": {},
   "outputs": [],
   "source": [
    "import pandas as pd\n",
    "import os"
   ]
  },
  {
   "cell_type": "code",
   "execution_count": 2,
   "id": "c5aa51d6",
   "metadata": {},
   "outputs": [
    {
     "data": {
      "text/html": [
       "<div>\n",
       "<style scoped>\n",
       "    .dataframe tbody tr th:only-of-type {\n",
       "        vertical-align: middle;\n",
       "    }\n",
       "\n",
       "    .dataframe tbody tr th {\n",
       "        vertical-align: top;\n",
       "    }\n",
       "\n",
       "    .dataframe thead th {\n",
       "        text-align: right;\n",
       "    }\n",
       "</style>\n",
       "<table border=\"1\" class=\"dataframe\">\n",
       "  <thead>\n",
       "    <tr style=\"text-align: right;\">\n",
       "      <th></th>\n",
       "      <th>image</th>\n",
       "      <th>cand_caption</th>\n",
       "      <th>2</th>\n",
       "      <th>3</th>\n",
       "      <th>4</th>\n",
       "    </tr>\n",
       "  </thead>\n",
       "  <tbody>\n",
       "    <tr>\n",
       "      <th>0</th>\n",
       "      <td>1056338697_4f7d7ce270.jpg</td>\n",
       "      <td>2549968784_39bfbe44f9.jpg#2</td>\n",
       "      <td>1</td>\n",
       "      <td>1</td>\n",
       "      <td>1</td>\n",
       "    </tr>\n",
       "    <tr>\n",
       "      <th>1</th>\n",
       "      <td>1056338697_4f7d7ce270.jpg</td>\n",
       "      <td>2718495608_d8533e3ac5.jpg#2</td>\n",
       "      <td>1</td>\n",
       "      <td>1</td>\n",
       "      <td>2</td>\n",
       "    </tr>\n",
       "    <tr>\n",
       "      <th>2</th>\n",
       "      <td>1056338697_4f7d7ce270.jpg</td>\n",
       "      <td>3181701312_70a379ab6e.jpg#2</td>\n",
       "      <td>1</td>\n",
       "      <td>1</td>\n",
       "      <td>2</td>\n",
       "    </tr>\n",
       "    <tr>\n",
       "      <th>3</th>\n",
       "      <td>1056338697_4f7d7ce270.jpg</td>\n",
       "      <td>3207358897_bfa61fa3c6.jpg#2</td>\n",
       "      <td>1</td>\n",
       "      <td>2</td>\n",
       "      <td>2</td>\n",
       "    </tr>\n",
       "    <tr>\n",
       "      <th>4</th>\n",
       "      <td>1056338697_4f7d7ce270.jpg</td>\n",
       "      <td>3286822339_5535af6b93.jpg#2</td>\n",
       "      <td>1</td>\n",
       "      <td>1</td>\n",
       "      <td>2</td>\n",
       "    </tr>\n",
       "    <tr>\n",
       "      <th>5</th>\n",
       "      <td>1056338697_4f7d7ce270.jpg</td>\n",
       "      <td>3360930596_1e75164ce6.jpg#2</td>\n",
       "      <td>1</td>\n",
       "      <td>1</td>\n",
       "      <td>1</td>\n",
       "    </tr>\n",
       "    <tr>\n",
       "      <th>6</th>\n",
       "      <td>1056338697_4f7d7ce270.jpg</td>\n",
       "      <td>3545652636_0746537307.jpg#2</td>\n",
       "      <td>1</td>\n",
       "      <td>1</td>\n",
       "      <td>1</td>\n",
       "    </tr>\n",
       "    <tr>\n",
       "      <th>7</th>\n",
       "      <td>1056338697_4f7d7ce270.jpg</td>\n",
       "      <td>434792818_56375e203f.jpg#2</td>\n",
       "      <td>1</td>\n",
       "      <td>1</td>\n",
       "      <td>2</td>\n",
       "    </tr>\n",
       "    <tr>\n",
       "      <th>8</th>\n",
       "      <td>106490881_5a2dd9b7bd.jpg</td>\n",
       "      <td>1425069308_488e5fcf9d.jpg#2</td>\n",
       "      <td>1</td>\n",
       "      <td>1</td>\n",
       "      <td>1</td>\n",
       "    </tr>\n",
       "    <tr>\n",
       "      <th>9</th>\n",
       "      <td>106490881_5a2dd9b7bd.jpg</td>\n",
       "      <td>1714316707_8bbaa2a2ba.jpg#2</td>\n",
       "      <td>2</td>\n",
       "      <td>2</td>\n",
       "      <td>2</td>\n",
       "    </tr>\n",
       "    <tr>\n",
       "      <th>10</th>\n",
       "      <td>106490881_5a2dd9b7bd.jpg</td>\n",
       "      <td>2140182410_8e2a06fbda.jpg#2</td>\n",
       "      <td>2</td>\n",
       "      <td>2</td>\n",
       "      <td>2</td>\n",
       "    </tr>\n",
       "    <tr>\n",
       "      <th>11</th>\n",
       "      <td>106490881_5a2dd9b7bd.jpg</td>\n",
       "      <td>2398605966_1d0c9e6a20.jpg#2</td>\n",
       "      <td>1</td>\n",
       "      <td>1</td>\n",
       "      <td>1</td>\n",
       "    </tr>\n",
       "    <tr>\n",
       "      <th>12</th>\n",
       "      <td>106490881_5a2dd9b7bd.jpg</td>\n",
       "      <td>2479652566_8f9fac8af5.jpg#2</td>\n",
       "      <td>1</td>\n",
       "      <td>1</td>\n",
       "      <td>1</td>\n",
       "    </tr>\n",
       "    <tr>\n",
       "      <th>13</th>\n",
       "      <td>106490881_5a2dd9b7bd.jpg</td>\n",
       "      <td>3119076670_64b5340530.jpg#2</td>\n",
       "      <td>1</td>\n",
       "      <td>1</td>\n",
       "      <td>1</td>\n",
       "    </tr>\n",
       "    <tr>\n",
       "      <th>14</th>\n",
       "      <td>106490881_5a2dd9b7bd.jpg</td>\n",
       "      <td>317488612_70ac35493b.jpg#2</td>\n",
       "      <td>1</td>\n",
       "      <td>1</td>\n",
       "      <td>1</td>\n",
       "    </tr>\n",
       "    <tr>\n",
       "      <th>15</th>\n",
       "      <td>106490881_5a2dd9b7bd.jpg</td>\n",
       "      <td>493621130_152bdd4e91.jpg#2</td>\n",
       "      <td>1</td>\n",
       "      <td>1</td>\n",
       "      <td>1</td>\n",
       "    </tr>\n",
       "    <tr>\n",
       "      <th>16</th>\n",
       "      <td>1082379191_ec1e53f996.jpg</td>\n",
       "      <td>1287475186_2dee85f1a5.jpg#2</td>\n",
       "      <td>1</td>\n",
       "      <td>1</td>\n",
       "      <td>1</td>\n",
       "    </tr>\n",
       "    <tr>\n",
       "      <th>17</th>\n",
       "      <td>1082379191_ec1e53f996.jpg</td>\n",
       "      <td>1536774449_e16b1b6382.jpg#2</td>\n",
       "      <td>1</td>\n",
       "      <td>2</td>\n",
       "      <td>3</td>\n",
       "    </tr>\n",
       "    <tr>\n",
       "      <th>18</th>\n",
       "      <td>1082379191_ec1e53f996.jpg</td>\n",
       "      <td>2472980433_210ec62874.jpg#2</td>\n",
       "      <td>1</td>\n",
       "      <td>1</td>\n",
       "      <td>2</td>\n",
       "    </tr>\n",
       "    <tr>\n",
       "      <th>19</th>\n",
       "      <td>1082379191_ec1e53f996.jpg</td>\n",
       "      <td>2893374123_087f98d58a.jpg#2</td>\n",
       "      <td>1</td>\n",
       "      <td>1</td>\n",
       "      <td>2</td>\n",
       "    </tr>\n",
       "  </tbody>\n",
       "</table>\n",
       "</div>"
      ],
      "text/plain": [
       "                        image                 cand_caption  2  3  4\n",
       "0   1056338697_4f7d7ce270.jpg  2549968784_39bfbe44f9.jpg#2  1  1  1\n",
       "1   1056338697_4f7d7ce270.jpg  2718495608_d8533e3ac5.jpg#2  1  1  2\n",
       "2   1056338697_4f7d7ce270.jpg  3181701312_70a379ab6e.jpg#2  1  1  2\n",
       "3   1056338697_4f7d7ce270.jpg  3207358897_bfa61fa3c6.jpg#2  1  2  2\n",
       "4   1056338697_4f7d7ce270.jpg  3286822339_5535af6b93.jpg#2  1  1  2\n",
       "5   1056338697_4f7d7ce270.jpg  3360930596_1e75164ce6.jpg#2  1  1  1\n",
       "6   1056338697_4f7d7ce270.jpg  3545652636_0746537307.jpg#2  1  1  1\n",
       "7   1056338697_4f7d7ce270.jpg   434792818_56375e203f.jpg#2  1  1  2\n",
       "8    106490881_5a2dd9b7bd.jpg  1425069308_488e5fcf9d.jpg#2  1  1  1\n",
       "9    106490881_5a2dd9b7bd.jpg  1714316707_8bbaa2a2ba.jpg#2  2  2  2\n",
       "10   106490881_5a2dd9b7bd.jpg  2140182410_8e2a06fbda.jpg#2  2  2  2\n",
       "11   106490881_5a2dd9b7bd.jpg  2398605966_1d0c9e6a20.jpg#2  1  1  1\n",
       "12   106490881_5a2dd9b7bd.jpg  2479652566_8f9fac8af5.jpg#2  1  1  1\n",
       "13   106490881_5a2dd9b7bd.jpg  3119076670_64b5340530.jpg#2  1  1  1\n",
       "14   106490881_5a2dd9b7bd.jpg   317488612_70ac35493b.jpg#2  1  1  1\n",
       "15   106490881_5a2dd9b7bd.jpg   493621130_152bdd4e91.jpg#2  1  1  1\n",
       "16  1082379191_ec1e53f996.jpg  1287475186_2dee85f1a5.jpg#2  1  1  1\n",
       "17  1082379191_ec1e53f996.jpg  1536774449_e16b1b6382.jpg#2  1  2  3\n",
       "18  1082379191_ec1e53f996.jpg  2472980433_210ec62874.jpg#2  1  1  2\n",
       "19  1082379191_ec1e53f996.jpg  2893374123_087f98d58a.jpg#2  1  1  2"
      ]
     },
     "execution_count": 2,
     "metadata": {},
     "output_type": "execute_result"
    }
   ],
   "source": [
    "df_anno = pd.read_csv(\"../data/raw/flickr8k/ExpertAnnotations.txt\", header=None, delimiter=\"\\t\")\n",
    "df_anno = df_anno.rename(columns={0:\"image\", 1:\"cand_caption\"})\n",
    "df_anno.head(20)"
   ]
  },
  {
   "cell_type": "code",
   "execution_count": null,
   "id": "db105ad0",
   "metadata": {},
   "outputs": [],
   "source": []
  },
  {
   "cell_type": "code",
   "execution_count": 5,
   "id": "d80b008b",
   "metadata": {},
   "outputs": [
    {
     "data": {
      "text/html": [
       "<div>\n",
       "<style scoped>\n",
       "    .dataframe tbody tr th:only-of-type {\n",
       "        vertical-align: middle;\n",
       "    }\n",
       "\n",
       "    .dataframe tbody tr th {\n",
       "        vertical-align: top;\n",
       "    }\n",
       "\n",
       "    .dataframe thead th {\n",
       "        text-align: right;\n",
       "    }\n",
       "</style>\n",
       "<table border=\"1\" class=\"dataframe\">\n",
       "  <thead>\n",
       "    <tr style=\"text-align: right;\">\n",
       "      <th></th>\n",
       "      <th>image</th>\n",
       "      <th>cand_caption</th>\n",
       "    </tr>\n",
       "  </thead>\n",
       "  <tbody>\n",
       "    <tr>\n",
       "      <th>0</th>\n",
       "      <td>1000268201_693b08cb0e.jpg#0</td>\n",
       "      <td>A child in a pink dress is climbing up a set o...</td>\n",
       "    </tr>\n",
       "    <tr>\n",
       "      <th>1</th>\n",
       "      <td>1000268201_693b08cb0e.jpg#1</td>\n",
       "      <td>A girl going into a wooden building .</td>\n",
       "    </tr>\n",
       "    <tr>\n",
       "      <th>2</th>\n",
       "      <td>1000268201_693b08cb0e.jpg#2</td>\n",
       "      <td>A little girl climbing into a wooden playhouse .</td>\n",
       "    </tr>\n",
       "    <tr>\n",
       "      <th>3</th>\n",
       "      <td>1000268201_693b08cb0e.jpg#3</td>\n",
       "      <td>A little girl climbing the stairs to her playh...</td>\n",
       "    </tr>\n",
       "    <tr>\n",
       "      <th>4</th>\n",
       "      <td>1000268201_693b08cb0e.jpg#4</td>\n",
       "      <td>A little girl in a pink dress going into a woo...</td>\n",
       "    </tr>\n",
       "  </tbody>\n",
       "</table>\n",
       "</div>"
      ],
      "text/plain": [
       "                         image  \\\n",
       "0  1000268201_693b08cb0e.jpg#0   \n",
       "1  1000268201_693b08cb0e.jpg#1   \n",
       "2  1000268201_693b08cb0e.jpg#2   \n",
       "3  1000268201_693b08cb0e.jpg#3   \n",
       "4  1000268201_693b08cb0e.jpg#4   \n",
       "\n",
       "                                        cand_caption  \n",
       "0  A child in a pink dress is climbing up a set o...  \n",
       "1              A girl going into a wooden building .  \n",
       "2   A little girl climbing into a wooden playhouse .  \n",
       "3  A little girl climbing the stairs to her playh...  \n",
       "4  A little girl in a pink dress going into a woo...  "
      ]
     },
     "execution_count": 5,
     "metadata": {},
     "output_type": "execute_result"
    }
   ],
   "source": [
    "df_cap = pd.read_csv(\"../data/raw/flickr8k/Flickr8k.token.txt\", header=None, delimiter=\"\\t\")\n",
    "df_cap = df_cap.rename(columns={0:\"image\", 1:\"cand_caption\"})\n",
    "df_cap.head(5)"
   ]
  },
  {
   "cell_type": "code",
   "execution_count": null,
   "id": "46fa83e6",
   "metadata": {},
   "outputs": [],
   "source": []
  },
  {
   "cell_type": "code",
   "execution_count": 6,
   "id": "1a891a88",
   "metadata": {},
   "outputs": [],
   "source": [
    "# build look-up dictionary\n",
    "\n",
    "with open(\"../data/raw/flickr8k/Flickr8k.token.txt\") as f:\n",
    "    cap = f.readlines()\n",
    "    cap = [x.strip() for x in cap]\n",
    "    \n",
    "cap_dict = {}\n",
    "for item in cap:\n",
    "    _id    = item.split(\"\\t\")[0].split(\"#\")[0]\n",
    "    _index = item.split(\"\\t\")[0].split(\"#\")[1]\n",
    "    _text  = item.split(\"\\t\")[1]\n",
    "    \n",
    "    if _id in cap_dict:\n",
    "        cap_dict[_id].append(_text)\n",
    "        \n",
    "    else:\n",
    "        cap_dict[_id] = [_text]        "
   ]
  },
  {
   "cell_type": "code",
   "execution_count": null,
   "id": "cace3c16",
   "metadata": {},
   "outputs": [],
   "source": []
  },
  {
   "cell_type": "code",
   "execution_count": 7,
   "id": "8e07101d",
   "metadata": {},
   "outputs": [],
   "source": [
    "# image \n",
    "imgs = df_anno[\"image\"]\n",
    "base_path = \"../data/raw/flickr8k/Flicker8k_Dataset/\"\n",
    "\n",
    "if os.path.isdir(\"../data/processed/\") == False:\n",
    "    os.mkdir(\"../data/processed/\")\n",
    "    \n",
    "if os.path.isdir(\"../data/processed/flickr8k\") == False:\n",
    "    os.mkdir(\"../data/processed/flickr8k\")\n",
    "    \n",
    "\n",
    "with open(\"../data/processed/flickr8k/imgs.txt\", \"w\") as f:\n",
    "    for item in imgs:\n",
    "        f.write(base_path + item + \"\\n\")"
   ]
  },
  {
   "cell_type": "code",
   "execution_count": null,
   "id": "ebbff3c3",
   "metadata": {},
   "outputs": [],
   "source": []
  },
  {
   "cell_type": "code",
   "execution_count": 8,
   "id": "fa3e19fe",
   "metadata": {},
   "outputs": [],
   "source": [
    "# cand caption\n",
    "cand = df_anno[\"cand_caption\"]\n",
    "\n",
    "with open(\"../data/processed/flickr8k/cand.txt\", \"w\") as f:\n",
    "    for item in cand:\n",
    "        _id    = item.split(\"#\")[0]\n",
    "        _index = int(item.split(\"#\")[1])\n",
    "        f.write( cap_dict[_id][_index] + \"\\n\")"
   ]
  },
  {
   "cell_type": "code",
   "execution_count": null,
   "id": "02fb4610",
   "metadata": {},
   "outputs": [],
   "source": []
  },
  {
   "cell_type": "code",
   "execution_count": 9,
   "id": "381dfb8b",
   "metadata": {},
   "outputs": [],
   "source": [
    "# gt caption\n",
    "gt = df_anno[\"image\"]\n",
    "\n",
    "with open(\"../data/processed/flickr8k/gt.txt\", \"w\") as f:\n",
    "    for item in gt:\n",
    "        for _text in cap_dict[item]:\n",
    "            f.write( _text + \"\\n\")"
   ]
  },
  {
   "cell_type": "code",
   "execution_count": null,
   "id": "287a793a",
   "metadata": {},
   "outputs": [],
   "source": []
  },
  {
   "cell_type": "code",
   "execution_count": 11,
   "id": "e5d46162",
   "metadata": {},
   "outputs": [],
   "source": [
    "# annotations\n",
    "\n",
    "anno_1 = df_anno[2]\n",
    "anno_2 = df_anno[3]\n",
    "anno_3 = df_anno[4]\n",
    "anno_avg = (anno_1 + anno_2 + anno_3)/3\n",
    "\n",
    "with open(\"../data/processed/flickr8k/annotations.txt\", \"w\") as f:\n",
    "    for i in range(len(anno_1)):\n",
    "        f.write(str(anno_1[i]) + \",\" + str(anno_2[i]) + \",\" + str(anno_3[i]) +\"\\n\")\n",
    "        \n",
    "with open(\"../data/processed/flickr8k/annotations_avg.txt\", \"w\") as f:\n",
    "    for i in range(len(anno_avg)):\n",
    "        f.write(str(anno_avg[i]) + \"\\n\")"
   ]
  },
  {
   "cell_type": "code",
   "execution_count": null,
   "id": "20cc5b5b",
   "metadata": {},
   "outputs": [],
   "source": []
  },
  {
   "cell_type": "code",
   "execution_count": null,
   "id": "34bb6f27",
   "metadata": {},
   "outputs": [],
   "source": []
  },
  {
   "cell_type": "code",
   "execution_count": 9,
   "id": "18406c2c",
   "metadata": {},
   "outputs": [],
   "source": [
    "# sanity check"
   ]
  },
  {
   "cell_type": "code",
   "execution_count": 10,
   "id": "08b66c6b",
   "metadata": {},
   "outputs": [],
   "source": [
    "# import pickle\n",
    "# with open(\"../data/flickr8k/gt_caps.pkl\", \"rb\") as f:\n",
    "#     tmp_gt = pickle.load(f)\n",
    "    \n",
    "# with open(\"../data/flickr8k/cand_caps.pkl\", \"rb\") as f:\n",
    "#     tmp_cand = pickle.load(f)\n",
    "    \n",
    "# with open(\"../data/flickr8k/scores.pkl\", \"rb\") as f:\n",
    "#     tmp_score = pickle.load(f, encoding='latin1')\n",
    "    \n",
    "# with open(\"../data/processed/flickr8k/annotations_avg.txt\") as f:\n",
    "#     anno = f.readlines()\n",
    "#     anno = [float(x.strip()) for x in anno]"
   ]
  },
  {
   "cell_type": "code",
   "execution_count": 11,
   "id": "9c7f1c72",
   "metadata": {},
   "outputs": [],
   "source": [
    "# ori_index = 14\n",
    "# print(\"ori_index: \", ori_index)\n",
    "# print(\"\\nori: \", \"\\n\", tmp_cand[ori_index], \"\\n\", tmp_gt[ori_index], \"\\n\", tmp_score[ori_index])\n",
    "\n",
    "# targe_index = cand_caps.index(tmp_cand[ori_index])\n",
    "# print(\"\\ntarge_index: \", targe_index)\n",
    "# print(\"\\ntarget : \", \"\\n\", cand_caps[targe_index], \"\\n\", gt_caps[targe_index*5:targe_index*5+5], \"\\n\", anno[targe_index])"
   ]
  },
  {
   "cell_type": "code",
   "execution_count": null,
   "id": "09b1a255",
   "metadata": {},
   "outputs": [],
   "source": []
  },
  {
   "cell_type": "code",
   "execution_count": null,
   "id": "f57be9de",
   "metadata": {},
   "outputs": [],
   "source": []
  },
  {
   "cell_type": "code",
   "execution_count": null,
   "id": "fad1f352",
   "metadata": {},
   "outputs": [],
   "source": []
  },
  {
   "cell_type": "code",
   "execution_count": null,
   "id": "26997080",
   "metadata": {},
   "outputs": [],
   "source": []
  },
  {
   "cell_type": "markdown",
   "id": "d9075b76",
   "metadata": {},
   "source": [
    "## 02-A compute score - feature extraction"
   ]
  },
  {
   "cell_type": "code",
   "execution_count": 9,
   "id": "472fe9c7",
   "metadata": {},
   "outputs": [],
   "source": [
    "IMAGE_PATH = \"../data/processed/flickr8k/imgs.txt\"         # input\n",
    "# IMAGE_PATH = \"../data/processed/flickr8k/imgs_rep_5.txt\"         # input\n",
    "IMAGE_FEATURE = \"../data/processed/flickr8k/image_features.pkl\"  # output\n",
    "\n",
    "FEATURE_EXTRACTOR_BATCH_SIZE = 4\n",
    "DETECTRON_MODEL  = \"../data/detection/detectron_model.pth\"\n",
    "DETECTRON_CONFIG = \"../data/detection/detectron_config.yaml\""
   ]
  },
  {
   "cell_type": "code",
   "execution_count": 10,
   "id": "fd803870",
   "metadata": {},
   "outputs": [
    {
     "name": "stdout",
     "output_type": "stream",
     "text": [
      "\n",
      "====================== EVALUATION CONFIGURATION ======================\n",
      "Summary\n",
      "----------------------------------------------------------------------\n",
      " - model_file                         : ../data/detection/detectron_model.pth\n",
      " - config_file                        : ../data/detection/detectron_config.yaml\n",
      " - batch_size                         : 4\n",
      " - num_features                       : 100\n",
      " - output_folder                      : \n",
      " - image_dir                          : \n",
      " - feature_name                       : fc6\n",
      " - confidence_threshold               : 0\n",
      " - background                         : False\n",
      " - partition                          : 0\n"
     ]
    }
   ],
   "source": [
    "import sys\n",
    "sys.path.append(\"../vilbert\")\n",
    "from extract_features_custom import FeatureExtractor\n",
    "\n",
    "feature_extractor = FeatureExtractor(model_file    = DETECTRON_MODEL,\n",
    "                                     config_file   = DETECTRON_CONFIG,\n",
    "                                     batch_size    = FEATURE_EXTRACTOR_BATCH_SIZE,\n",
    ")"
   ]
  },
  {
   "cell_type": "code",
   "execution_count": 11,
   "id": "3cd96b52",
   "metadata": {},
   "outputs": [
    {
     "name": "stderr",
     "output_type": "stream",
     "text": [
      "1456it [1:39:17,  3.52s/it]\n"
     ]
    }
   ],
   "source": [
    "with open(IMAGE_PATH) as f:\n",
    "    image_path = f.readlines()\n",
    "\n",
    "image_path = [x.strip() for x in image_path]\n",
    "img_features = feature_extractor.extract_features_direct(image_path)\n",
    "\n",
    "assert len(image_path) == len(img_features)"
   ]
  },
  {
   "cell_type": "code",
   "execution_count": 12,
   "id": "41b2814e",
   "metadata": {},
   "outputs": [],
   "source": [
    "import pickle\n",
    "with open(IMAGE_FEATURE, \"wb\") as f:\n",
    "    pickle.dump(img_features, f)"
   ]
  },
  {
   "cell_type": "code",
   "execution_count": null,
   "id": "b3f515bc",
   "metadata": {},
   "outputs": [],
   "source": []
  },
  {
   "cell_type": "code",
   "execution_count": null,
   "id": "14bbd9bb",
   "metadata": {},
   "outputs": [],
   "source": []
  },
  {
   "cell_type": "markdown",
   "id": "161580af",
   "metadata": {},
   "source": [
    "## 02-B compute score"
   ]
  },
  {
   "cell_type": "code",
   "execution_count": 13,
   "id": "f982e542",
   "metadata": {},
   "outputs": [],
   "source": [
    "IMAGE_FEATURE = \"../data/processed/flickr8k/image_features.pkl\"  # output from step 01\n",
    "GENERATED_CAPTION = \"../data/processed/flickr8k/cand.txt\"\n",
    "GT_CAPTION = \"../data/processed/flickr8k/gt.txt\"\n",
    "\n",
    "VS_BATCH_SIZE = 400"
   ]
  },
  {
   "cell_type": "code",
   "execution_count": 14,
   "id": "923af829",
   "metadata": {},
   "outputs": [
    {
     "name": "stdout",
     "output_type": "stream",
     "text": [
      "WARNING:tensorflow:From /home/syoon/anaconda3/envs/vilbert-score/lib/python3.6/site-packages/tensorpack/callbacks/hooks.py:17: The name tf.train.SessionRunHook is deprecated. Please use tf.estimator.SessionRunHook instead.\n",
      "\n",
      "WARNING:tensorflow:From /home/syoon/anaconda3/envs/vilbert-score/lib/python3.6/site-packages/tensorpack/tfutils/optimizer.py:18: The name tf.train.Optimizer is deprecated. Please use tf.compat.v1.train.Optimizer instead.\n",
      "\n",
      "WARNING:tensorflow:From /home/syoon/anaconda3/envs/vilbert-score/lib/python3.6/site-packages/tensorpack/tfutils/sesscreate.py:20: The name tf.train.SessionCreator is deprecated. Please use tf.compat.v1.train.SessionCreator instead.\n",
      "\n"
     ]
    }
   ],
   "source": [
    "import pandas as pd\n",
    "import sys\n",
    "sys.path.append(\"../vilbert\")\n",
    "import pickle\n",
    "from compute_vilbertscore_custom import VilbertScore\n",
    "vs = VilbertScore(batch_size=VS_BATCH_SIZE)"
   ]
  },
  {
   "cell_type": "code",
   "execution_count": null,
   "id": "c0eb6732",
   "metadata": {},
   "outputs": [],
   "source": []
  },
  {
   "cell_type": "code",
   "execution_count": 15,
   "id": "6acb66ba",
   "metadata": {},
   "outputs": [
    {
     "name": "stdout",
     "output_type": "stream",
     "text": [
      "5822 5822 29110\n",
      "num_itr:  5\n"
     ]
    }
   ],
   "source": [
    "with open(IMAGE_FEATURE, \"rb\") as f:\n",
    "    imgs = pickle.load(f)\n",
    "            \n",
    "with open(GENERATED_CAPTION, \"r\") as f:\n",
    "    cand_caps = f.readlines()\n",
    "    cand_caps = [x.strip() for x in cand_caps]\n",
    "\n",
    "with open(GT_CAPTION, \"r\") as f:\n",
    "    gt_caps = f.readlines()\n",
    "    gt_caps = [x.strip() for x in gt_caps]\n",
    "    \n",
    "print(len(imgs), len(cand_caps), len(gt_caps))\n",
    "num_itr = int(len(gt_caps) / len(cand_caps))\n",
    "print(\"num_itr: \", num_itr)"
   ]
  },
  {
   "cell_type": "code",
   "execution_count": null,
   "id": "92f7625c",
   "metadata": {},
   "outputs": [],
   "source": []
  },
  {
   "cell_type": "code",
   "execution_count": 16,
   "id": "98501c70",
   "metadata": {},
   "outputs": [
    {
     "name": "stderr",
     "output_type": "stream",
     "text": [
      "\r",
      "  0%|          | 0/15 [00:00<?, ?it/s]"
     ]
    },
    {
     "name": "stdout",
     "output_type": "stream",
     "text": [
      "target data\n",
      "Generated Captions (2 samples):  ['A young child is wearing blue goggles and sitting in a float in a pool .', 'A girl wearing a yellow shirt and sunglasses smiles .']\n",
      "Ground truth Captions (2 samples):  ['A blond woman in a blue shirt appears to wait for a ride .', 'A blond woman in a blue shirt appears to wait for a ride .']\n"
     ]
    },
    {
     "name": "stderr",
     "output_type": "stream",
     "text": [
      "100%|██████████| 15/15 [00:53<00:00,  3.21s/it]\n",
      "  0%|          | 0/15 [00:00<?, ?it/s]"
     ]
    },
    {
     "name": "stdout",
     "output_type": "stream",
     "text": [
      "target data\n",
      "Generated Captions (2 samples):  ['A young child is wearing blue goggles and sitting in a float in a pool .', 'A girl wearing a yellow shirt and sunglasses smiles .']\n",
      "Ground truth Captions (2 samples):  ['A blond woman is on the street hailing a taxi .', 'A blond woman is on the street hailing a taxi .']\n"
     ]
    },
    {
     "name": "stderr",
     "output_type": "stream",
     "text": [
      "100%|██████████| 15/15 [00:54<00:00,  3.23s/it]\n",
      "  0%|          | 0/15 [00:00<?, ?it/s]"
     ]
    },
    {
     "name": "stdout",
     "output_type": "stream",
     "text": [
      "target data\n",
      "Generated Captions (2 samples):  ['A young child is wearing blue goggles and sitting in a float in a pool .', 'A girl wearing a yellow shirt and sunglasses smiles .']\n",
      "Ground truth Captions (2 samples):  ['A woman is signaling is to traffic , as seen from behind .', 'A woman is signaling is to traffic , as seen from behind .']\n"
     ]
    },
    {
     "name": "stderr",
     "output_type": "stream",
     "text": [
      "100%|██████████| 15/15 [00:54<00:00,  3.24s/it]\n",
      "  0%|          | 0/15 [00:00<?, ?it/s]"
     ]
    },
    {
     "name": "stdout",
     "output_type": "stream",
     "text": [
      "target data\n",
      "Generated Captions (2 samples):  ['A young child is wearing blue goggles and sitting in a float in a pool .', 'A girl wearing a yellow shirt and sunglasses smiles .']\n",
      "Ground truth Captions (2 samples):  ['A woman with blonde hair wearing a blue tube top is waving on the side of the street .', 'A woman with blonde hair wearing a blue tube top is waving on the side of the street .']\n"
     ]
    },
    {
     "name": "stderr",
     "output_type": "stream",
     "text": [
      "100%|██████████| 15/15 [00:54<00:00,  3.24s/it]\n",
      "  0%|          | 0/15 [00:00<?, ?it/s]"
     ]
    },
    {
     "name": "stdout",
     "output_type": "stream",
     "text": [
      "target data\n",
      "Generated Captions (2 samples):  ['A young child is wearing blue goggles and sitting in a float in a pool .', 'A girl wearing a yellow shirt and sunglasses smiles .']\n",
      "Ground truth Captions (2 samples):  ['The woman in the blue dress is holding out her arm at oncoming traffic .', 'The woman in the blue dress is holding out her arm at oncoming traffic .']\n"
     ]
    },
    {
     "name": "stderr",
     "output_type": "stream",
     "text": [
      "100%|██████████| 15/15 [00:54<00:00,  3.25s/it]\n"
     ]
    }
   ],
   "source": [
    "# multi gt case\n",
    "for i in range(num_itr):\n",
    "    \n",
    "    # subset of gt caption\n",
    "    sub_gt_cap = []\n",
    "    for index, cap in enumerate(gt_caps):\n",
    "        if index % num_itr == i:\n",
    "            sub_gt_cap.append(cap)    \n",
    "    \n",
    "    # load dataset to compute\n",
    "    vs.loaddata(list_image_feature = imgs,\n",
    "                list_gen_caption = cand_caps,\n",
    "                list_gt_caption = sub_gt_cap,\n",
    "                max_len=50\n",
    "               )\n",
    "    \n",
    "    precision, recall, f1 = vs.compute()\n",
    "    \n",
    "    if i==0:\n",
    "        df = pd.DataFrame(data=[precision, recall, f1]).T\n",
    "    else:\n",
    "        df_tmp = pd.DataFrame(data=[precision, recall, f1]).T\n",
    "        df = pd.concat([df, df_tmp])\n",
    "        \n",
    "df = df.rename(columns={0:\"precision\", 1:\"recall\", 2:\"f1\"})"
   ]
  },
  {
   "cell_type": "code",
   "execution_count": 17,
   "id": "a0a107b3",
   "metadata": {},
   "outputs": [
    {
     "data": {
      "text/html": [
       "<div>\n",
       "<style scoped>\n",
       "    .dataframe tbody tr th:only-of-type {\n",
       "        vertical-align: middle;\n",
       "    }\n",
       "\n",
       "    .dataframe tbody tr th {\n",
       "        vertical-align: top;\n",
       "    }\n",
       "\n",
       "    .dataframe thead th {\n",
       "        text-align: right;\n",
       "    }\n",
       "</style>\n",
       "<table border=\"1\" class=\"dataframe\">\n",
       "  <thead>\n",
       "    <tr style=\"text-align: right;\">\n",
       "      <th></th>\n",
       "      <th>precision</th>\n",
       "      <th>recall</th>\n",
       "      <th>f1</th>\n",
       "    </tr>\n",
       "  </thead>\n",
       "  <tbody>\n",
       "    <tr>\n",
       "      <th>0</th>\n",
       "      <td>0.761258</td>\n",
       "      <td>0.760525</td>\n",
       "      <td>0.760891</td>\n",
       "    </tr>\n",
       "    <tr>\n",
       "      <th>1</th>\n",
       "      <td>0.759970</td>\n",
       "      <td>0.771912</td>\n",
       "      <td>0.765894</td>\n",
       "    </tr>\n",
       "    <tr>\n",
       "      <th>2</th>\n",
       "      <td>0.766312</td>\n",
       "      <td>0.787093</td>\n",
       "      <td>0.776564</td>\n",
       "    </tr>\n",
       "    <tr>\n",
       "      <th>3</th>\n",
       "      <td>0.797615</td>\n",
       "      <td>0.812368</td>\n",
       "      <td>0.804924</td>\n",
       "    </tr>\n",
       "    <tr>\n",
       "      <th>4</th>\n",
       "      <td>0.703377</td>\n",
       "      <td>0.662452</td>\n",
       "      <td>0.682301</td>\n",
       "    </tr>\n",
       "    <tr>\n",
       "      <th>...</th>\n",
       "      <td>...</td>\n",
       "      <td>...</td>\n",
       "      <td>...</td>\n",
       "    </tr>\n",
       "    <tr>\n",
       "      <th>5817</th>\n",
       "      <td>0.654174</td>\n",
       "      <td>0.654434</td>\n",
       "      <td>0.654304</td>\n",
       "    </tr>\n",
       "    <tr>\n",
       "      <th>5818</th>\n",
       "      <td>0.762904</td>\n",
       "      <td>0.768542</td>\n",
       "      <td>0.765713</td>\n",
       "    </tr>\n",
       "    <tr>\n",
       "      <th>5819</th>\n",
       "      <td>0.685805</td>\n",
       "      <td>0.707417</td>\n",
       "      <td>0.696443</td>\n",
       "    </tr>\n",
       "    <tr>\n",
       "      <th>5820</th>\n",
       "      <td>0.654777</td>\n",
       "      <td>0.684836</td>\n",
       "      <td>0.669470</td>\n",
       "    </tr>\n",
       "    <tr>\n",
       "      <th>5821</th>\n",
       "      <td>0.794693</td>\n",
       "      <td>0.842392</td>\n",
       "      <td>0.817848</td>\n",
       "    </tr>\n",
       "  </tbody>\n",
       "</table>\n",
       "<p>29110 rows × 3 columns</p>\n",
       "</div>"
      ],
      "text/plain": [
       "      precision    recall        f1\n",
       "0      0.761258  0.760525  0.760891\n",
       "1      0.759970  0.771912  0.765894\n",
       "2      0.766312  0.787093  0.776564\n",
       "3      0.797615  0.812368  0.804924\n",
       "4      0.703377  0.662452  0.682301\n",
       "...         ...       ...       ...\n",
       "5817   0.654174  0.654434  0.654304\n",
       "5818   0.762904  0.768542  0.765713\n",
       "5819   0.685805  0.707417  0.696443\n",
       "5820   0.654777  0.684836  0.669470\n",
       "5821   0.794693  0.842392  0.817848\n",
       "\n",
       "[29110 rows x 3 columns]"
      ]
     },
     "execution_count": 17,
     "metadata": {},
     "output_type": "execute_result"
    }
   ],
   "source": [
    "df"
   ]
  },
  {
   "cell_type": "code",
   "execution_count": null,
   "id": "06709eb6",
   "metadata": {},
   "outputs": [],
   "source": []
  },
  {
   "cell_type": "code",
   "execution_count": null,
   "id": "3c5e67ea",
   "metadata": {},
   "outputs": [],
   "source": []
  },
  {
   "cell_type": "markdown",
   "id": "89df1dd8",
   "metadata": {},
   "source": [
    "### analysis"
   ]
  },
  {
   "cell_type": "code",
   "execution_count": 24,
   "id": "8fce235d",
   "metadata": {},
   "outputs": [],
   "source": [
    "import numpy as np"
   ]
  },
  {
   "cell_type": "code",
   "execution_count": 27,
   "id": "53b763e1",
   "metadata": {},
   "outputs": [],
   "source": [
    "scores_precision = []\n",
    "for index in range( len(cand_caps) ):\n",
    "    scores_precision.append( np.sum(df[\"precision\"][index])/5 )\n",
    "    \n",
    "scores_recall = []\n",
    "for index in range( len(cand_caps) ):\n",
    "    scores_recall.append( np.sum(df[\"recall\"][index])/5 )\n",
    "    \n",
    "scores_f1 = []\n",
    "for index in range( len(cand_caps) ):\n",
    "    scores_f1.append( np.sum(df[\"f1\"][index])/5 )"
   ]
  },
  {
   "cell_type": "code",
   "execution_count": 36,
   "id": "bd87fc2d",
   "metadata": {},
   "outputs": [],
   "source": [
    "df_rst = pd.DataFrame([scores_precision, scores_recall, scores_f1]).T\n",
    "df_rst = df_rst.rename(columns={0:\"precision\", 1:\"recall\", 2:\"f1\"})"
   ]
  },
  {
   "cell_type": "code",
   "execution_count": 40,
   "id": "b42b306e",
   "metadata": {},
   "outputs": [],
   "source": [
    "df_rst.to_csv(\"../data/processed/flickr8k/vilbertscore.csv\", index=False)"
   ]
  },
  {
   "cell_type": "code",
   "execution_count": null,
   "id": "b0fa374c",
   "metadata": {},
   "outputs": [],
   "source": []
  },
  {
   "cell_type": "code",
   "execution_count": null,
   "id": "336ac2fb",
   "metadata": {},
   "outputs": [],
   "source": []
  },
  {
   "cell_type": "code",
   "execution_count": null,
   "id": "367fa170",
   "metadata": {},
   "outputs": [],
   "source": []
  },
  {
   "cell_type": "code",
   "execution_count": null,
   "id": "75e10d3f",
   "metadata": {},
   "outputs": [],
   "source": []
  }
 ],
 "metadata": {
  "kernelspec": {
   "display_name": "Python [conda env:vilbert-score]",
   "language": "python",
   "name": "conda-env-vilbert-score-py"
  },
  "language_info": {
   "codemirror_mode": {
    "name": "ipython",
    "version": 3
   },
   "file_extension": ".py",
   "mimetype": "text/x-python",
   "name": "python",
   "nbconvert_exporter": "python",
   "pygments_lexer": "ipython3",
   "version": "3.6.13"
  }
 },
 "nbformat": 4,
 "nbformat_minor": 5
}
