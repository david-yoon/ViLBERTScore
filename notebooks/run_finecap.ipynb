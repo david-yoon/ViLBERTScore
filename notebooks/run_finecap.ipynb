{
 "cells": [
  {
   "cell_type": "markdown",
   "id": "b19a7f21",
   "metadata": {},
   "source": [
    "## 01. data preprocess"
   ]
  },
  {
   "cell_type": "code",
   "execution_count": 1,
   "id": "9f7d47d4",
   "metadata": {},
   "outputs": [],
   "source": [
    "import json"
   ]
  },
  {
   "cell_type": "markdown",
   "id": "ff456f09",
   "metadata": {},
   "source": [
    "### prepare test data - follow karpathy testset (order as well)"
   ]
  },
  {
   "cell_type": "code",
   "execution_count": 2,
   "id": "d9eafdfc",
   "metadata": {},
   "outputs": [],
   "source": [
    "# karpathy split\n",
    "with open(\"../data/raw/coco/dataset_coco_karpathy.json\") as f:\n",
    "    karpathy = json.load(f)\n",
    "    \n",
    "karpathy_test = [ x for x in karpathy[\"images\"] if x[\"split\"] == \"test\"]      \n",
    "len(karpathy_test)\n",
    "\n",
    "with open(\"../data/processed/finecap/test_keys.txt\", \"w\") as f:\n",
    "    for item in karpathy_test:\n",
    "        f.write(str(item[\"cocoid\"]) + \"\\n\")    "
   ]
  },
  {
   "cell_type": "code",
   "execution_count": null,
   "id": "61893bb9",
   "metadata": {},
   "outputs": [],
   "source": []
  },
  {
   "cell_type": "code",
   "execution_count": 3,
   "id": "1250c511",
   "metadata": {},
   "outputs": [],
   "source": [
    "# read test_key\n",
    "with open(\"../data/processed/finecap/test_keys.txt\") as f:\n",
    "    test_key = f.readlines()\n",
    "    test_key = [x.strip() for x in test_key]"
   ]
  },
  {
   "cell_type": "code",
   "execution_count": 4,
   "id": "315fbcd5",
   "metadata": {},
   "outputs": [],
   "source": [
    "# read data\n",
    "with open(\"../data/processed/finecap/clip_rn50_transformer_scl_pl_scst_cider_test.json\") as f:\n",
    "    data = json.load(f)\n",
    "    data = data[\"imgToEval\"]"
   ]
  },
  {
   "cell_type": "code",
   "execution_count": 5,
   "id": "1dc66884",
   "metadata": {},
   "outputs": [],
   "source": [
    "# candidate caption\n",
    "with open(\"../data/processed/finecap/cand_cider.txt\", \"w\") as f:\n",
    "    for key in test_key:\n",
    "        f.write(data[key][\"caption\"] + \"\\n\")    "
   ]
  },
  {
   "cell_type": "code",
   "execution_count": 7,
   "id": "48af33cc",
   "metadata": {},
   "outputs": [],
   "source": [
    "# ground truth caption\n",
    "\n",
    "# karpathy split\n",
    "with open(\"../data/raw/coco/dataset_coco_karpathy.json\") as f:\n",
    "    karpathy = json.load(f)\n",
    "karpathy_test = [ x for x in karpathy[\"images\"] if x[\"split\"] == \"test\"]      \n",
    "len(karpathy_test)\n",
    "\n",
    "with open(\"../data/processed/finecap/gt.txt\", \"w\") as f:\n",
    "    for key, item in zip(test_key, karpathy_test):\n",
    "        if key != str(item[\"cocoid\"]):\n",
    "            print(\"error\")\n",
    "            break            \n",
    "        else:            \n",
    "            for index, gt in enumerate(item[\"sentences\"]):\n",
    "                if index > 4:\n",
    "                    continue\n",
    "                f.write(gt[\"raw\"].strip() + \"\\n\")"
   ]
  },
  {
   "cell_type": "code",
   "execution_count": 8,
   "id": "2e896942",
   "metadata": {},
   "outputs": [],
   "source": [
    "# image path\n",
    "\n",
    "with open(\"../data/processed/finecap/imgs.txt\", \"w\") as f:\n",
    "    for key, item in zip(test_key, karpathy_test):\n",
    "        if key != str(item[\"cocoid\"]):\n",
    "            print(\"error\")\n",
    "            break\n",
    "        else:\n",
    "            f.write(\"../data/raw/coco/\" + item[\"filepath\"] + \"/\" +  item[\"filename\"] + \"\\n\")"
   ]
  },
  {
   "cell_type": "code",
   "execution_count": null,
   "id": "1b907f0c",
   "metadata": {},
   "outputs": [],
   "source": []
  },
  {
   "cell_type": "code",
   "execution_count": null,
   "id": "700af8af",
   "metadata": {},
   "outputs": [],
   "source": []
  },
  {
   "cell_type": "markdown",
   "id": "d9075b76",
   "metadata": {},
   "source": [
    "## 02-A compute score - feature extraction"
   ]
  },
  {
   "cell_type": "code",
   "execution_count": 12,
   "id": "472fe9c7",
   "metadata": {},
   "outputs": [],
   "source": [
    "IMAGE_PATH = \"../data/processed/finecap/imgs.txt\"         # input\n",
    "IMAGE_FEATURE = \"../data/processed/finecap/image_features_02.pkl\"  # output\n",
    "\n",
    "FEATURE_EXTRACTOR_BATCH_SIZE = 4\n",
    "DETECTRON_MODEL  = \"../data/detection/detectron_model.pth\"\n",
    "DETECTRON_CONFIG = \"../data/detection/detectron_config.yaml\""
   ]
  },
  {
   "cell_type": "code",
   "execution_count": 13,
   "id": "fd803870",
   "metadata": {},
   "outputs": [
    {
     "name": "stdout",
     "output_type": "stream",
     "text": [
      "\n",
      "====================== EVALUATION CONFIGURATION ======================\n",
      "Summary\n",
      "----------------------------------------------------------------------\n",
      " - model_file                         : ../data/detection/detectron_model.pth\n",
      " - config_file                        : ../data/detection/detectron_config.yaml\n",
      " - batch_size                         : 4\n",
      " - num_features                       : 100\n",
      " - output_folder                      : \n",
      " - image_dir                          : \n",
      " - feature_name                       : fc6\n",
      " - confidence_threshold               : 0\n",
      " - background                         : False\n",
      " - partition                          : 0\n"
     ]
    }
   ],
   "source": [
    "import sys\n",
    "sys.path.append(\"../vilbert\")\n",
    "from extract_features_custom import FeatureExtractor\n",
    "\n",
    "feature_extractor = FeatureExtractor(model_file    = DETECTRON_MODEL,\n",
    "                                     config_file   = DETECTRON_CONFIG,\n",
    "                                     batch_size    = FEATURE_EXTRACTOR_BATCH_SIZE,\n",
    ")"
   ]
  },
  {
   "cell_type": "code",
   "execution_count": 14,
   "id": "3cd96b52",
   "metadata": {},
   "outputs": [
    {
     "data": {
      "text/plain": [
       "2500"
      ]
     },
     "execution_count": 14,
     "metadata": {},
     "output_type": "execute_result"
    }
   ],
   "source": [
    "with open(IMAGE_PATH) as f:\n",
    "    image_path = f.readlines()\n",
    "\n",
    "image_path = [x.strip() for x in image_path]\n",
    "image_path = image_path[2500:]\n",
    "len(image_path)"
   ]
  },
  {
   "cell_type": "code",
   "execution_count": null,
   "id": "c70ca176",
   "metadata": {},
   "outputs": [
    {
     "name": "stderr",
     "output_type": "stream",
     "text": [
      "304it [22:31,  4.38s/it]"
     ]
    }
   ],
   "source": [
    "img_features = feature_extractor.extract_features_direct(image_path)\n",
    "assert len(image_path) == len(img_features)"
   ]
  },
  {
   "cell_type": "code",
   "execution_count": null,
   "id": "41b2814e",
   "metadata": {},
   "outputs": [],
   "source": [
    "import pickle\n",
    "with open(IMAGE_FEATURE, \"wb\") as f:\n",
    "    pickle.dump(img_features, f)"
   ]
  },
  {
   "cell_type": "code",
   "execution_count": null,
   "id": "b3f515bc",
   "metadata": {},
   "outputs": [],
   "source": []
  },
  {
   "cell_type": "code",
   "execution_count": null,
   "id": "825c99e1",
   "metadata": {},
   "outputs": [],
   "source": []
  },
  {
   "cell_type": "code",
   "execution_count": null,
   "id": "57cb99f4",
   "metadata": {},
   "outputs": [],
   "source": []
  },
  {
   "cell_type": "code",
   "execution_count": null,
   "id": "af1494e5",
   "metadata": {},
   "outputs": [],
   "source": []
  },
  {
   "cell_type": "code",
   "execution_count": null,
   "id": "c9dbd48c",
   "metadata": {},
   "outputs": [],
   "source": []
  },
  {
   "cell_type": "code",
   "execution_count": null,
   "id": "acba180a",
   "metadata": {},
   "outputs": [],
   "source": []
  },
  {
   "cell_type": "markdown",
   "id": "161580af",
   "metadata": {},
   "source": [
    "## 02-B compute score"
   ]
  },
  {
   "cell_type": "code",
   "execution_count": 2,
   "id": "f982e542",
   "metadata": {},
   "outputs": [],
   "source": [
    "IMAGE_FEATURE = \"../data/processed/capeval1k/image_features.pkl\"  # output from step 01\n",
    "GENERATED_CAPTION = \"../data/processed/capeval1k/cand.txt\"\n",
    "GT_CAPTION = \"../data/processed/capeval1k/gt.txt\"\n",
    "\n",
    "VS_BATCH_SIZE = 400"
   ]
  },
  {
   "cell_type": "code",
   "execution_count": 3,
   "id": "923af829",
   "metadata": {},
   "outputs": [
    {
     "name": "stdout",
     "output_type": "stream",
     "text": [
      "WARNING:tensorflow:From /home/syoon/anaconda3/envs/vilbert-score/lib/python3.6/site-packages/tensorpack/callbacks/hooks.py:17: The name tf.train.SessionRunHook is deprecated. Please use tf.estimator.SessionRunHook instead.\n",
      "\n",
      "WARNING:tensorflow:From /home/syoon/anaconda3/envs/vilbert-score/lib/python3.6/site-packages/tensorpack/tfutils/optimizer.py:18: The name tf.train.Optimizer is deprecated. Please use tf.compat.v1.train.Optimizer instead.\n",
      "\n",
      "WARNING:tensorflow:From /home/syoon/anaconda3/envs/vilbert-score/lib/python3.6/site-packages/tensorpack/tfutils/sesscreate.py:20: The name tf.train.SessionCreator is deprecated. Please use tf.compat.v1.train.SessionCreator instead.\n",
      "\n"
     ]
    }
   ],
   "source": [
    "import pandas as pd\n",
    "import sys\n",
    "sys.path.append(\"../vilbert\")\n",
    "import pickle\n",
    "from compute_vilbertscore_custom import VilbertScore\n",
    "vs = VilbertScore(batch_size=VS_BATCH_SIZE)"
   ]
  },
  {
   "cell_type": "code",
   "execution_count": null,
   "id": "c0eb6732",
   "metadata": {},
   "outputs": [],
   "source": []
  },
  {
   "cell_type": "code",
   "execution_count": 4,
   "id": "6acb66ba",
   "metadata": {},
   "outputs": [
    {
     "name": "stdout",
     "output_type": "stream",
     "text": [
      "1000 1000 5000\n",
      "num_itr:  5\n"
     ]
    }
   ],
   "source": [
    "with open(IMAGE_FEATURE, \"rb\") as f:\n",
    "    imgs = pickle.load(f)\n",
    "            \n",
    "with open(GENERATED_CAPTION, \"r\") as f:\n",
    "    cand_caps = f.readlines()\n",
    "    cand_caps = [x.strip() for x in cand_caps]\n",
    "\n",
    "with open(GT_CAPTION, \"r\") as f:\n",
    "    gt_caps = f.readlines()\n",
    "    gt_caps = [x.strip() for x in gt_caps]\n",
    "    \n",
    "print(len(imgs), len(cand_caps), len(gt_caps))\n",
    "num_itr = int(len(gt_caps) / len(cand_caps))\n",
    "print(\"num_itr: \", num_itr)"
   ]
  },
  {
   "cell_type": "code",
   "execution_count": null,
   "id": "92f7625c",
   "metadata": {},
   "outputs": [],
   "source": []
  },
  {
   "cell_type": "code",
   "execution_count": 5,
   "id": "98501c70",
   "metadata": {},
   "outputs": [
    {
     "name": "stderr",
     "output_type": "stream",
     "text": [
      "\r",
      "  0%|          | 0/3 [00:00<?, ?it/s]"
     ]
    },
    {
     "name": "stdout",
     "output_type": "stream",
     "text": [
      "target data\n",
      "Generated Captions (2 samples):  ['a woman sitting at a table with a cake', 'a bunch of knives on a cutting board with a knife']\n",
      "Ground truth Captions (2 samples):  ['a young girl inhales with the intent of blowing out a candle.', 'a wooden ball on top of a wooden stick.']\n"
     ]
    },
    {
     "name": "stderr",
     "output_type": "stream",
     "text": [
      "100%|██████████| 3/3 [00:10<00:00,  3.66s/it]\n",
      "  0%|          | 0/3 [00:00<?, ?it/s]"
     ]
    },
    {
     "name": "stdout",
     "output_type": "stream",
     "text": [
      "target data\n",
      "Generated Captions (2 samples):  ['a woman sitting at a table with a cake', 'a bunch of knives on a cutting board with a knife']\n",
      "Ground truth Captions (2 samples):  ['a young girl is preparing to blow out her candle.', 'the table is full of wooden spoons and utensils.']\n"
     ]
    },
    {
     "name": "stderr",
     "output_type": "stream",
     "text": [
      "100%|██████████| 3/3 [00:10<00:00,  3.59s/it]\n",
      "  0%|          | 0/3 [00:00<?, ?it/s]"
     ]
    },
    {
     "name": "stdout",
     "output_type": "stream",
     "text": [
      "target data\n",
      "Generated Captions (2 samples):  ['a woman sitting at a table with a cake', 'a bunch of knives on a cutting board with a knife']\n",
      "Ground truth Captions (2 samples):  ['a kid is to blow out the single candle in a bowl of birthday goodness.', 'a wood table holding an assortment of wood cooking utensils.']\n"
     ]
    },
    {
     "name": "stderr",
     "output_type": "stream",
     "text": [
      "100%|██████████| 3/3 [00:10<00:00,  3.61s/it]\n",
      "  0%|          | 0/3 [00:00<?, ?it/s]"
     ]
    },
    {
     "name": "stdout",
     "output_type": "stream",
     "text": [
      "target data\n",
      "Generated Captions (2 samples):  ['a woman sitting at a table with a cake', 'a bunch of knives on a cutting board with a knife']\n",
      "Ground truth Captions (2 samples):  ['girl blowing out the candle on an ice-cream', 'a selection of wooden kitchen tools on a counter.']\n"
     ]
    },
    {
     "name": "stderr",
     "output_type": "stream",
     "text": [
      "100%|██████████| 3/3 [00:10<00:00,  3.62s/it]\n",
      "  0%|          | 0/3 [00:00<?, ?it/s]"
     ]
    },
    {
     "name": "stdout",
     "output_type": "stream",
     "text": [
      "target data\n",
      "Generated Captions (2 samples):  ['a woman sitting at a table with a cake', 'a bunch of knives on a cutting board with a knife']\n",
      "Ground truth Captions (2 samples):  ['a little girl is getting ready to blow out a candle on a small dessert.', 'wooden spoons are lined up on a table']\n"
     ]
    },
    {
     "name": "stderr",
     "output_type": "stream",
     "text": [
      "100%|██████████| 3/3 [00:10<00:00,  3.63s/it]\n"
     ]
    }
   ],
   "source": [
    "# multi gt case\n",
    "for i in range(num_itr):\n",
    "    \n",
    "    # subset of gt caption\n",
    "    sub_gt_cap = []\n",
    "    for index, cap in enumerate(gt_caps):\n",
    "        if index % num_itr == i:\n",
    "            sub_gt_cap.append(cap)    \n",
    "    \n",
    "    # load dataset to compute\n",
    "    vs.loaddata(list_image_feature = imgs,\n",
    "                list_gen_caption = cand_caps,\n",
    "                list_gt_caption = sub_gt_cap,\n",
    "                max_len=50\n",
    "               )\n",
    "    \n",
    "    precision, recall, f1 = vs.compute()\n",
    "    \n",
    "    if i==0:\n",
    "        df = pd.DataFrame(data=[precision, recall, f1]).T\n",
    "    else:\n",
    "        df_tmp = pd.DataFrame(data=[precision, recall, f1]).T\n",
    "        df = pd.concat([df, df_tmp])\n",
    "        \n",
    "df = df.rename(columns={0:\"precision\", 1:\"recall\", 2:\"f1\"})"
   ]
  },
  {
   "cell_type": "code",
   "execution_count": 6,
   "id": "a0a107b3",
   "metadata": {},
   "outputs": [
    {
     "data": {
      "text/html": [
       "<div>\n",
       "<style scoped>\n",
       "    .dataframe tbody tr th:only-of-type {\n",
       "        vertical-align: middle;\n",
       "    }\n",
       "\n",
       "    .dataframe tbody tr th {\n",
       "        vertical-align: top;\n",
       "    }\n",
       "\n",
       "    .dataframe thead th {\n",
       "        text-align: right;\n",
       "    }\n",
       "</style>\n",
       "<table border=\"1\" class=\"dataframe\">\n",
       "  <thead>\n",
       "    <tr style=\"text-align: right;\">\n",
       "      <th></th>\n",
       "      <th>precision</th>\n",
       "      <th>recall</th>\n",
       "      <th>f1</th>\n",
       "    </tr>\n",
       "  </thead>\n",
       "  <tbody>\n",
       "    <tr>\n",
       "      <th>0</th>\n",
       "      <td>0.869753</td>\n",
       "      <td>0.786476</td>\n",
       "      <td>0.826021</td>\n",
       "    </tr>\n",
       "    <tr>\n",
       "      <th>1</th>\n",
       "      <td>0.777076</td>\n",
       "      <td>0.802007</td>\n",
       "      <td>0.789345</td>\n",
       "    </tr>\n",
       "    <tr>\n",
       "      <th>2</th>\n",
       "      <td>0.901035</td>\n",
       "      <td>0.862815</td>\n",
       "      <td>0.881511</td>\n",
       "    </tr>\n",
       "    <tr>\n",
       "      <th>3</th>\n",
       "      <td>0.853539</td>\n",
       "      <td>0.815534</td>\n",
       "      <td>0.834103</td>\n",
       "    </tr>\n",
       "    <tr>\n",
       "      <th>4</th>\n",
       "      <td>0.889996</td>\n",
       "      <td>0.877415</td>\n",
       "      <td>0.883660</td>\n",
       "    </tr>\n",
       "    <tr>\n",
       "      <th>...</th>\n",
       "      <td>...</td>\n",
       "      <td>...</td>\n",
       "      <td>...</td>\n",
       "    </tr>\n",
       "    <tr>\n",
       "      <th>995</th>\n",
       "      <td>0.904070</td>\n",
       "      <td>0.903172</td>\n",
       "      <td>0.903620</td>\n",
       "    </tr>\n",
       "    <tr>\n",
       "      <th>996</th>\n",
       "      <td>0.779771</td>\n",
       "      <td>0.754415</td>\n",
       "      <td>0.766883</td>\n",
       "    </tr>\n",
       "    <tr>\n",
       "      <th>997</th>\n",
       "      <td>0.911715</td>\n",
       "      <td>0.884409</td>\n",
       "      <td>0.897855</td>\n",
       "    </tr>\n",
       "    <tr>\n",
       "      <th>998</th>\n",
       "      <td>0.884133</td>\n",
       "      <td>0.848135</td>\n",
       "      <td>0.865760</td>\n",
       "    </tr>\n",
       "    <tr>\n",
       "      <th>999</th>\n",
       "      <td>0.913921</td>\n",
       "      <td>0.930549</td>\n",
       "      <td>0.922160</td>\n",
       "    </tr>\n",
       "  </tbody>\n",
       "</table>\n",
       "<p>5000 rows × 3 columns</p>\n",
       "</div>"
      ],
      "text/plain": [
       "     precision    recall        f1\n",
       "0     0.869753  0.786476  0.826021\n",
       "1     0.777076  0.802007  0.789345\n",
       "2     0.901035  0.862815  0.881511\n",
       "3     0.853539  0.815534  0.834103\n",
       "4     0.889996  0.877415  0.883660\n",
       "..         ...       ...       ...\n",
       "995   0.904070  0.903172  0.903620\n",
       "996   0.779771  0.754415  0.766883\n",
       "997   0.911715  0.884409  0.897855\n",
       "998   0.884133  0.848135  0.865760\n",
       "999   0.913921  0.930549  0.922160\n",
       "\n",
       "[5000 rows x 3 columns]"
      ]
     },
     "execution_count": 6,
     "metadata": {},
     "output_type": "execute_result"
    }
   ],
   "source": [
    "df"
   ]
  },
  {
   "cell_type": "code",
   "execution_count": null,
   "id": "c8d74530",
   "metadata": {},
   "outputs": [],
   "source": []
  },
  {
   "cell_type": "code",
   "execution_count": null,
   "id": "3c5e67ea",
   "metadata": {},
   "outputs": [],
   "source": []
  },
  {
   "cell_type": "markdown",
   "id": "89df1dd8",
   "metadata": {},
   "source": [
    "### analysis"
   ]
  },
  {
   "cell_type": "code",
   "execution_count": 16,
   "id": "8fce235d",
   "metadata": {},
   "outputs": [],
   "source": [
    "import numpy as np"
   ]
  },
  {
   "cell_type": "code",
   "execution_count": 18,
   "id": "53b763e1",
   "metadata": {},
   "outputs": [],
   "source": [
    "scores_precision = []\n",
    "for index in range( len(cand_caps) ):\n",
    "    scores_precision.append( np.sum(df[\"precision\"][index])/5 )\n",
    "    \n",
    "scores_recall = []\n",
    "for index in range( len(cand_caps) ):\n",
    "    scores_recall.append( np.sum(df[\"recall\"][index])/5 )\n",
    "    \n",
    "scores_f1 = []\n",
    "for index in range( len(cand_caps) ):\n",
    "    scores_f1.append( np.sum(df[\"f1\"][index])/5 )"
   ]
  },
  {
   "cell_type": "code",
   "execution_count": 19,
   "id": "bd87fc2d",
   "metadata": {},
   "outputs": [],
   "source": [
    "df_rst = pd.DataFrame([scores_precision, scores_recall, scores_f1]).T\n",
    "df_rst = df_rst.rename(columns={0:\"precision\", 1:\"recall\", 2:\"f1\"})"
   ]
  },
  {
   "cell_type": "code",
   "execution_count": 20,
   "id": "b42b306e",
   "metadata": {},
   "outputs": [],
   "source": [
    "df_rst.to_csv(\"../data/processed/capeval1k/vilbertscore.csv\", index=False)"
   ]
  },
  {
   "cell_type": "code",
   "execution_count": null,
   "id": "b0fa374c",
   "metadata": {},
   "outputs": [],
   "source": []
  },
  {
   "cell_type": "code",
   "execution_count": null,
   "id": "336ac2fb",
   "metadata": {},
   "outputs": [],
   "source": []
  },
  {
   "cell_type": "code",
   "execution_count": null,
   "id": "367fa170",
   "metadata": {},
   "outputs": [],
   "source": []
  },
  {
   "cell_type": "code",
   "execution_count": null,
   "id": "75e10d3f",
   "metadata": {},
   "outputs": [],
   "source": []
  }
 ],
 "metadata": {
  "kernelspec": {
   "display_name": "Python [conda env:vilbert-score]",
   "language": "python",
   "name": "conda-env-vilbert-score-py"
  },
  "language_info": {
   "codemirror_mode": {
    "name": "ipython",
    "version": 3
   },
   "file_extension": ".py",
   "mimetype": "text/x-python",
   "name": "python",
   "nbconvert_exporter": "python",
   "pygments_lexer": "ipython3",
   "version": "3.6.13"
  }
 },
 "nbformat": 4,
 "nbformat_minor": 5
}
